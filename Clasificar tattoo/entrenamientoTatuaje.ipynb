{
  "nbformat": 4,
  "nbformat_minor": 0,
  "metadata": {
    "colab": {
      "provenance": [],
      "collapsed_sections": [
        "hCpaiFZx1vD-",
        "9nikn5uB14JT",
        "KCo6WC7_3o7R",
        "Fm3Ux4dUulKw",
        "3ZaJrRx8uzwX"
      ]
    },
    "kernelspec": {
      "name": "python3",
      "display_name": "Python 3"
    },
    "language_info": {
      "name": "python"
    }
  },
  "cells": [
    {
      "cell_type": "markdown",
      "source": [
        "#Instalar librerías"
      ],
      "metadata": {
        "id": "hCpaiFZx1vD-"
      }
    },
    {
      "cell_type": "code",
      "source": [
        "# Instalar Roboflow para cargar datasets\n",
        "!pip install roboflow\n",
        "!pip install tensorflow==2.17.0\n"
      ],
      "metadata": {
        "colab": {
          "base_uri": "https://localhost:8080/"
        },
        "id": "ths2VQ101q1B",
        "outputId": "8ce935f8-6b07-4bb9-d948-c12683ae51c1"
      },
      "execution_count": 3,
      "outputs": [
        {
          "output_type": "stream",
          "name": "stdout",
          "text": [
            "Requirement already satisfied: roboflow in /usr/local/lib/python3.11/dist-packages (1.1.51)\n",
            "Requirement already satisfied: certifi in /usr/local/lib/python3.11/dist-packages (from roboflow) (2024.12.14)\n",
            "Requirement already satisfied: idna==3.7 in /usr/local/lib/python3.11/dist-packages (from roboflow) (3.7)\n",
            "Requirement already satisfied: cycler in /usr/local/lib/python3.11/dist-packages (from roboflow) (0.12.1)\n",
            "Requirement already satisfied: kiwisolver>=1.3.1 in /usr/local/lib/python3.11/dist-packages (from roboflow) (1.4.8)\n",
            "Requirement already satisfied: matplotlib in /usr/local/lib/python3.11/dist-packages (from roboflow) (3.10.0)\n",
            "Requirement already satisfied: numpy>=1.18.5 in /usr/local/lib/python3.11/dist-packages (from roboflow) (1.26.4)\n",
            "Requirement already satisfied: opencv-python-headless==4.10.0.84 in /usr/local/lib/python3.11/dist-packages (from roboflow) (4.10.0.84)\n",
            "Requirement already satisfied: Pillow>=7.1.2 in /usr/local/lib/python3.11/dist-packages (from roboflow) (11.1.0)\n",
            "Requirement already satisfied: python-dateutil in /usr/local/lib/python3.11/dist-packages (from roboflow) (2.8.2)\n",
            "Requirement already satisfied: python-dotenv in /usr/local/lib/python3.11/dist-packages (from roboflow) (1.0.1)\n",
            "Requirement already satisfied: requests in /usr/local/lib/python3.11/dist-packages (from roboflow) (2.32.3)\n",
            "Requirement already satisfied: six in /usr/local/lib/python3.11/dist-packages (from roboflow) (1.17.0)\n",
            "Requirement already satisfied: urllib3>=1.26.6 in /usr/local/lib/python3.11/dist-packages (from roboflow) (2.3.0)\n",
            "Requirement already satisfied: tqdm>=4.41.0 in /usr/local/lib/python3.11/dist-packages (from roboflow) (4.67.1)\n",
            "Requirement already satisfied: PyYAML>=5.3.1 in /usr/local/lib/python3.11/dist-packages (from roboflow) (6.0.2)\n",
            "Requirement already satisfied: requests-toolbelt in /usr/local/lib/python3.11/dist-packages (from roboflow) (1.0.0)\n",
            "Requirement already satisfied: filetype in /usr/local/lib/python3.11/dist-packages (from roboflow) (1.2.0)\n",
            "Requirement already satisfied: contourpy>=1.0.1 in /usr/local/lib/python3.11/dist-packages (from matplotlib->roboflow) (1.3.1)\n",
            "Requirement already satisfied: fonttools>=4.22.0 in /usr/local/lib/python3.11/dist-packages (from matplotlib->roboflow) (4.55.3)\n",
            "Requirement already satisfied: packaging>=20.0 in /usr/local/lib/python3.11/dist-packages (from matplotlib->roboflow) (24.2)\n",
            "Requirement already satisfied: pyparsing>=2.3.1 in /usr/local/lib/python3.11/dist-packages (from matplotlib->roboflow) (3.2.1)\n",
            "Requirement already satisfied: charset-normalizer<4,>=2 in /usr/local/lib/python3.11/dist-packages (from requests->roboflow) (3.4.1)\n",
            "Requirement already satisfied: tensorflow==2.17.0 in /usr/local/lib/python3.11/dist-packages (2.17.0)\n",
            "Requirement already satisfied: absl-py>=1.0.0 in /usr/local/lib/python3.11/dist-packages (from tensorflow==2.17.0) (1.4.0)\n",
            "Requirement already satisfied: astunparse>=1.6.0 in /usr/local/lib/python3.11/dist-packages (from tensorflow==2.17.0) (1.6.3)\n",
            "Requirement already satisfied: flatbuffers>=24.3.25 in /usr/local/lib/python3.11/dist-packages (from tensorflow==2.17.0) (24.12.23)\n",
            "Requirement already satisfied: gast!=0.5.0,!=0.5.1,!=0.5.2,>=0.2.1 in /usr/local/lib/python3.11/dist-packages (from tensorflow==2.17.0) (0.6.0)\n",
            "Requirement already satisfied: google-pasta>=0.1.1 in /usr/local/lib/python3.11/dist-packages (from tensorflow==2.17.0) (0.2.0)\n",
            "Requirement already satisfied: h5py>=3.10.0 in /usr/local/lib/python3.11/dist-packages (from tensorflow==2.17.0) (3.12.1)\n",
            "Requirement already satisfied: libclang>=13.0.0 in /usr/local/lib/python3.11/dist-packages (from tensorflow==2.17.0) (18.1.1)\n",
            "Requirement already satisfied: ml-dtypes<0.5.0,>=0.3.1 in /usr/local/lib/python3.11/dist-packages (from tensorflow==2.17.0) (0.4.1)\n",
            "Requirement already satisfied: opt-einsum>=2.3.2 in /usr/local/lib/python3.11/dist-packages (from tensorflow==2.17.0) (3.4.0)\n",
            "Requirement already satisfied: packaging in /usr/local/lib/python3.11/dist-packages (from tensorflow==2.17.0) (24.2)\n",
            "Requirement already satisfied: protobuf!=4.21.0,!=4.21.1,!=4.21.2,!=4.21.3,!=4.21.4,!=4.21.5,<5.0.0dev,>=3.20.3 in /usr/local/lib/python3.11/dist-packages (from tensorflow==2.17.0) (4.25.5)\n",
            "Requirement already satisfied: requests<3,>=2.21.0 in /usr/local/lib/python3.11/dist-packages (from tensorflow==2.17.0) (2.32.3)\n",
            "Requirement already satisfied: setuptools in /usr/local/lib/python3.11/dist-packages (from tensorflow==2.17.0) (75.1.0)\n",
            "Requirement already satisfied: six>=1.12.0 in /usr/local/lib/python3.11/dist-packages (from tensorflow==2.17.0) (1.17.0)\n",
            "Requirement already satisfied: termcolor>=1.1.0 in /usr/local/lib/python3.11/dist-packages (from tensorflow==2.17.0) (2.5.0)\n",
            "Requirement already satisfied: typing-extensions>=3.6.6 in /usr/local/lib/python3.11/dist-packages (from tensorflow==2.17.0) (4.12.2)\n",
            "Requirement already satisfied: wrapt>=1.11.0 in /usr/local/lib/python3.11/dist-packages (from tensorflow==2.17.0) (1.17.0)\n",
            "Requirement already satisfied: grpcio<2.0,>=1.24.3 in /usr/local/lib/python3.11/dist-packages (from tensorflow==2.17.0) (1.69.0)\n",
            "Requirement already satisfied: tensorboard<2.18,>=2.17 in /usr/local/lib/python3.11/dist-packages (from tensorflow==2.17.0) (2.17.1)\n",
            "Requirement already satisfied: keras>=3.2.0 in /usr/local/lib/python3.11/dist-packages (from tensorflow==2.17.0) (3.5.0)\n",
            "Requirement already satisfied: tensorflow-io-gcs-filesystem>=0.23.1 in /usr/local/lib/python3.11/dist-packages (from tensorflow==2.17.0) (0.37.1)\n",
            "Requirement already satisfied: numpy<2.0.0,>=1.23.5 in /usr/local/lib/python3.11/dist-packages (from tensorflow==2.17.0) (1.26.4)\n",
            "Requirement already satisfied: wheel<1.0,>=0.23.0 in /usr/local/lib/python3.11/dist-packages (from astunparse>=1.6.0->tensorflow==2.17.0) (0.45.1)\n",
            "Requirement already satisfied: rich in /usr/local/lib/python3.11/dist-packages (from keras>=3.2.0->tensorflow==2.17.0) (13.9.4)\n",
            "Requirement already satisfied: namex in /usr/local/lib/python3.11/dist-packages (from keras>=3.2.0->tensorflow==2.17.0) (0.0.8)\n",
            "Requirement already satisfied: optree in /usr/local/lib/python3.11/dist-packages (from keras>=3.2.0->tensorflow==2.17.0) (0.13.1)\n",
            "Requirement already satisfied: charset-normalizer<4,>=2 in /usr/local/lib/python3.11/dist-packages (from requests<3,>=2.21.0->tensorflow==2.17.0) (3.4.1)\n",
            "Requirement already satisfied: idna<4,>=2.5 in /usr/local/lib/python3.11/dist-packages (from requests<3,>=2.21.0->tensorflow==2.17.0) (3.7)\n",
            "Requirement already satisfied: urllib3<3,>=1.21.1 in /usr/local/lib/python3.11/dist-packages (from requests<3,>=2.21.0->tensorflow==2.17.0) (2.3.0)\n",
            "Requirement already satisfied: certifi>=2017.4.17 in /usr/local/lib/python3.11/dist-packages (from requests<3,>=2.21.0->tensorflow==2.17.0) (2024.12.14)\n",
            "Requirement already satisfied: markdown>=2.6.8 in /usr/local/lib/python3.11/dist-packages (from tensorboard<2.18,>=2.17->tensorflow==2.17.0) (3.7)\n",
            "Requirement already satisfied: tensorboard-data-server<0.8.0,>=0.7.0 in /usr/local/lib/python3.11/dist-packages (from tensorboard<2.18,>=2.17->tensorflow==2.17.0) (0.7.2)\n",
            "Requirement already satisfied: werkzeug>=1.0.1 in /usr/local/lib/python3.11/dist-packages (from tensorboard<2.18,>=2.17->tensorflow==2.17.0) (3.1.3)\n",
            "Requirement already satisfied: MarkupSafe>=2.1.1 in /usr/local/lib/python3.11/dist-packages (from werkzeug>=1.0.1->tensorboard<2.18,>=2.17->tensorflow==2.17.0) (3.0.2)\n",
            "Requirement already satisfied: markdown-it-py>=2.2.0 in /usr/local/lib/python3.11/dist-packages (from rich->keras>=3.2.0->tensorflow==2.17.0) (3.0.0)\n",
            "Requirement already satisfied: pygments<3.0.0,>=2.13.0 in /usr/local/lib/python3.11/dist-packages (from rich->keras>=3.2.0->tensorflow==2.17.0) (2.18.0)\n",
            "Requirement already satisfied: mdurl~=0.1 in /usr/local/lib/python3.11/dist-packages (from markdown-it-py>=2.2.0->rich->keras>=3.2.0->tensorflow==2.17.0) (0.1.2)\n"
          ]
        }
      ]
    },
    {
      "cell_type": "code",
      "source": [
        "import keras\n",
        "import tensorflow as tf\n",
        "from tensorflow.keras.preprocessing.image import ImageDataGenerator\n",
        "print(keras.__version__)\n",
        "print(tf.__version__)"
      ],
      "metadata": {
        "colab": {
          "base_uri": "https://localhost:8080/"
        },
        "id": "YwrvgQdIcurp",
        "outputId": "6b242d88-906a-4534-81a3-7a90c0fec09b"
      },
      "execution_count": 5,
      "outputs": [
        {
          "output_type": "stream",
          "name": "stdout",
          "text": [
            "3.5.0\n",
            "2.17.0\n"
          ]
        }
      ]
    },
    {
      "cell_type": "markdown",
      "source": [
        "# Cargar Dataset de RoboFlow"
      ],
      "metadata": {
        "id": "9nikn5uB14JT"
      }
    },
    {
      "cell_type": "code",
      "execution_count": 6,
      "metadata": {
        "colab": {
          "base_uri": "https://localhost:8080/"
        },
        "id": "h96Npw2TyHiq",
        "outputId": "1d32e516-6ee3-4036-f07a-f9252761ac76"
      },
      "outputs": [
        {
          "output_type": "stream",
          "name": "stdout",
          "text": [
            "loading Roboflow workspace...\n",
            "loading Roboflow project...\n"
          ]
        },
        {
          "output_type": "stream",
          "name": "stderr",
          "text": [
            "Downloading Dataset Version Zip in Tattoo_Types-3 to multiclass:: 100%|██████████| 11852/11852 [00:01<00:00, 9469.57it/s]"
          ]
        },
        {
          "output_type": "stream",
          "name": "stdout",
          "text": [
            "\n"
          ]
        },
        {
          "output_type": "stream",
          "name": "stderr",
          "text": [
            "\n",
            "Extracting Dataset Version Zip to Tattoo_Types-3 in multiclass:: 100%|██████████| 226/226 [00:00<00:00, 2967.33it/s]\n"
          ]
        }
      ],
      "source": [
        "from roboflow import Roboflow\n",
        "rf = Roboflow(api_key=\"mlT63rhUs7OKHz2LKNMC\")\n",
        "project = rf.workspace(\"tattoo-d6iux\").project(\"tattoo_types\")\n",
        "version = project.version(3)\n",
        "dataset = version.download(\"multiclass\")\n"
      ]
    },
    {
      "cell_type": "code",
      "source": [
        "import keras\n",
        "import tensorflow as tf\n",
        "from tensorflow.keras.preprocessing.image import ImageDataGenerator\n",
        "print(keras.__version__)\n",
        "print(tf.__version__)"
      ],
      "metadata": {
        "colab": {
          "base_uri": "https://localhost:8080/"
        },
        "id": "ZOzFOhwNcKcB",
        "outputId": "557687ac-1038-4c7d-d2ef-b52d1362fbaa"
      },
      "execution_count": 7,
      "outputs": [
        {
          "output_type": "stream",
          "name": "stdout",
          "text": [
            "3.5.0\n",
            "2.17.0\n"
          ]
        }
      ]
    },
    {
      "cell_type": "markdown",
      "source": [
        "# Preparar los datos"
      ],
      "metadata": {
        "id": "KCo6WC7_3o7R"
      }
    },
    {
      "cell_type": "code",
      "source": [
        "# VALIDAR SI LAS CARPETAS EXISTEN\n",
        "import os\n",
        "\n",
        "def count_images_in_directory(directory):\n",
        "    images = []\n",
        "    for root, _, files in os.walk(directory):\n",
        "        for file in files:\n",
        "            if file.lower().endswith(('.png', '.jpg', '.jpeg', '.gif', '.bmp')):\n",
        "                full_path = os.path.join(root, file)\n",
        "                images.append(full_path)\n",
        "    print(f\"Total images in {directory}: {len(images)}\")\n",
        "    print(images)\n",
        "    return images\n",
        "\n",
        "print(\"Training images:\")\n",
        "a = count_images_in_directory(\"/content/Tattoo_Types-3/train\")\n",
        "\n",
        "print(\"\\nValidation images:\")\n",
        "b = count_images_in_directory(\"/content/Tattoo_Types-3/valid\")"
      ],
      "metadata": {
        "colab": {
          "base_uri": "https://localhost:8080/"
        },
        "id": "xmVu-4nhdOHN",
        "outputId": "8df4c0d4-9920-45d5-d2d6-447a4b2f312d"
      },
      "execution_count": 8,
      "outputs": [
        {
          "output_type": "stream",
          "name": "stdout",
          "text": [
            "Training images:\n",
            "Total images in /content/Tattoo_Types-3/train: 186\n",
            "['/content/Tattoo_Types-3/train/descarga-3-_jpg.rf.d0c4e1b71ffcd6c0eaf41e1ac01c61ba.jpg', '/content/Tattoo_Types-3/train/descarga-6-_jpg.rf.4085bff804dc30b31cb80ae3aecd8ed6.jpg', '/content/Tattoo_Types-3/train/cf34b84f8d3c6079ac3450bb8537539f_jpg.rf.14856412dba052cd5158021fa2edea16.jpg', '/content/Tattoo_Types-3/train/descarga-4-_jpg.rf.deb173a489f58f97d4c3bb0621938dec.jpg', '/content/Tattoo_Types-3/train/images-1-_jpg.rf.4aab9c3055b34f0cd46167d96276b990.jpg', '/content/Tattoo_Types-3/train/tatuaje_Logia_Barcelona_Julio_Voltaje_Aguila_02_jpg.rf.da29d8ebf59606d24f9b4a78d5882e92.jpg', '/content/Tattoo_Types-3/train/descarga-1-_jpg.rf.984fbd0af98d1bbed342188d5c3e6fb6.jpg', '/content/Tattoo_Types-3/train/descarga_jpg.rf.71cf054d123c0a6456cbd82b46d97698.jpg', '/content/Tattoo_Types-3/train/descarga-10-_jpg.rf.fa8d4ec7a8bcf17b7288c2295de04cf9.jpg', '/content/Tattoo_Types-3/train/images_jpg.rf.6ef6adefc55b295d6b3ed3bb43de487f.jpg', '/content/Tattoo_Types-3/train/images-1-_jpg.rf.00030ba64f621878f9b3193761cd25ca.jpg', '/content/Tattoo_Types-3/train/images-2-_jpg.rf.c58c71a7397590a79bb7e72822727010.jpg', '/content/Tattoo_Types-3/train/7735e49e88b9f354c4827a93c519c12f_jpg.rf.e276345c93d5ae49174d90228a49b020.jpg', '/content/Tattoo_Types-3/train/3e5787e03452dc64aae5ffe9059946c4_jpg.rf.69847e6e948f4866c373d63285fb9892.jpg', '/content/Tattoo_Types-3/train/descarga-3-_jpg.rf.84160fb342e412b2112c8b256f5ced19.jpg', '/content/Tattoo_Types-3/train/descarga-5-_jpg.rf.858b19d0f46a76cd1c3ac17f7781a557.jpg', '/content/Tattoo_Types-3/train/descarga-1-_jpg.rf.b012aa626368c668261378b85d375430.jpg', '/content/Tattoo_Types-3/train/images-1-_jpg.rf.a831c8bf132b12f70e248a877455a761.jpg', '/content/Tattoo_Types-3/train/images_jpg.rf.23a8fc67943958ff60596df8cd3c9c39.jpg', '/content/Tattoo_Types-3/train/descarga-5-_jpg.rf.dea2172193535c43a3f3d92b518bb6f3.jpg', '/content/Tattoo_Types-3/train/images-5-_jpg.rf.9e9a78407893e7fa88b4039604d01833.jpg', '/content/Tattoo_Types-3/train/6fe030da732b96912ff30d59716718e9_jpg.rf.72a334f44425ae9fa04a8aef8850aa98.jpg', '/content/Tattoo_Types-3/train/descarga-6-_jpg.rf.92a430a6588679627142fab52386b435.jpg', '/content/Tattoo_Types-3/train/1_l-D5X1eY5MZUJ4u_wrViqQ_jpg.rf.641f7c5def59dec6f5508ad1fbd856fd.jpg', '/content/Tattoo_Types-3/train/images-4-_jpg.rf.75bc739b152b362f182cf17fcda1380f.jpg', '/content/Tattoo_Types-3/train/descarga-6-_jpg.rf.e7ea711e94cb9122e58b714959c09643.jpg', '/content/Tattoo_Types-3/train/descarga-2-_jpg.rf.665539d2ff39ab4b5db055259635e3db.jpg', '/content/Tattoo_Types-3/train/images-1-_jpg.rf.9b8288ba3c451aa3f492b8728ea8f47f.jpg', '/content/Tattoo_Types-3/train/images-6-_jpg.rf.0b868dbcd747cc1f073af1cac86849b8.jpg', '/content/Tattoo_Types-3/train/images-1-_jpg.rf.06392eb9ca6cf8807eb5e7ccbb3596a1.jpg', '/content/Tattoo_Types-3/train/descarga-1-_jpg.rf.b0f1a4282d91eabc71dfc064b1431782.jpg', '/content/Tattoo_Types-3/train/images-2-_jpg.rf.6e864eaed824cc2c1c2b28d34a685b42.jpg', '/content/Tattoo_Types-3/train/62e7e6ae9044f4568b5a2ef77d1e9f6d_jpg.rf.c36916880d512a2bab5e10cc5a4f134a.jpg', '/content/Tattoo_Types-3/train/descarga-4-_jpg.rf.fc40612f77694124b8bcfa7ef4a61b53.jpg', '/content/Tattoo_Types-3/train/descarga-4-_jpg.rf.a3121823e66348b78a383566a3238a85.jpg', '/content/Tattoo_Types-3/train/HD-wallpaper-american-traditional-tattoo-designs-ideas-tattoos-ai_jpg.rf.9bf3657f2455b7ba0099c41cfceff53f.jpg', '/content/Tattoo_Types-3/train/1_cNAsQonQNisFmaPH9aqebw_jpg.rf.1dfbde6e05757edec3dfd4c7faaa54f1.jpg', '/content/Tattoo_Types-3/train/images-2-_jpg.rf.660bfb4f527bdcef7c79c47dde93d2a2.jpg', '/content/Tattoo_Types-3/train/1_cNAsQonQNisFmaPH9aqebw_jpg.rf.0216b3deb4c512b1afde7377359b8ac0.jpg', '/content/Tattoo_Types-3/train/13e7ce84aab22ea9a40deb91f567b211_jpg.rf.71e2142b76bf8d1f901b58438205d283.jpg', '/content/Tattoo_Types-3/train/descarga-1-_jpg.rf.f8ba5c4d175233328e62ad3d5f2d9457.jpg', '/content/Tattoo_Types-3/train/images_jpg.rf.87272cc77bb41ac8319dbbbae4436633.jpg', '/content/Tattoo_Types-3/train/8921c632d45e0439bec3d9283a52913a_jpg.rf.d774db17c0fc58d40ae94efb1ca070e1.jpg', '/content/Tattoo_Types-3/train/descarga-6-_jpg.rf.ec690bd8db0fe73d12e9980304f0ca1c.jpg', '/content/Tattoo_Types-3/train/images-5-_jpg.rf.15dcfaa0e88e1fd511a4a72c2c80b629.jpg', '/content/Tattoo_Types-3/train/descarga-5-_jpg.rf.a92f87feaf5b13148fdbecb690d83107.jpg', '/content/Tattoo_Types-3/train/2b7094a4831a7e32e78afdf74cc6f783_jpg.rf.afee858fb3738c25e6253bf1441ab4b5.jpg', '/content/Tattoo_Types-3/train/7735e49e88b9f354c4827a93c519c12f_jpg.rf.7b0a21fa6634c6bd34537c43a1ffdfe7.jpg', '/content/Tattoo_Types-3/train/descarga-2-_jpg.rf.d4ec1eb780399787bc74208feeed64ac.jpg', '/content/Tattoo_Types-3/train/descarga_jpg.rf.552b5f48e6b026f5e5780e186a6d5059.jpg', '/content/Tattoo_Types-3/train/3e5787e03452dc64aae5ffe9059946c4_jpg.rf.e6933d40c719c7dbf041913845bb70eb.jpg', '/content/Tattoo_Types-3/train/descarga-1-_jpg.rf.29f9648e322795f860a65023aad86914.jpg', '/content/Tattoo_Types-3/train/descarga_jpg.rf.092610ccbc89a1cb9d9de624c1e57cdd.jpg', '/content/Tattoo_Types-3/train/images-3-_jpg.rf.cc34683aca3bf995f01e019b9ab9c66c.jpg', '/content/Tattoo_Types-3/train/descarga-4-_jpg.rf.a028172d5425897c94e04f4164306847.jpg', '/content/Tattoo_Types-3/train/f7d14161b2f09f8ced10a414ac382f8b_jpg.rf.6dd6c0dc2557a6a1818d3cedb1ec6171.jpg', '/content/Tattoo_Types-3/train/descarga-8-_jpg.rf.4bd84e3812dad52fd1ce38635d9d3bff.jpg', '/content/Tattoo_Types-3/train/13e7ce84aab22ea9a40deb91f567b211_jpg.rf.2f8b18ec0249214cc390cca297bf9176.jpg', '/content/Tattoo_Types-3/train/descarga-2-_jpg.rf.5e37e18e7858b52d5022a1222dca2f2e.jpg', '/content/Tattoo_Types-3/train/5b8a549ebf263ec8949b8114fdcbf473_jpg.rf.e1d02659a25c26f827157c0683fc89a9.jpg', '/content/Tattoo_Types-3/train/4a04a6d5c34c3f77a5e6ef75155bbb3a_jpg.rf.df8e9eefbbccf4589c60f7ee6b1a29d6.jpg', '/content/Tattoo_Types-3/train/tatuaje-gato-acuarela-espalda-logia-barcelona-billy_jpg.rf.29e7ef9ceb465ce757761343f16f10b1.jpg', '/content/Tattoo_Types-3/train/descarga-1-_jpg.rf.0380ab95dcbd03c89babe1c1f875af42.jpg', '/content/Tattoo_Types-3/train/f7d14161b2f09f8ced10a414ac382f8b_jpg.rf.3ec1b479a1b97774eaf5382401328415.jpg', '/content/Tattoo_Types-3/train/images-4-_jpg.rf.73fa295085edf173e9de9f247f8dba3d.jpg', '/content/Tattoo_Types-3/train/descarga-8-_jpg.rf.450d83ac2f5e5433978885835978e13c.jpg', '/content/Tattoo_Types-3/train/images-4-_jpg.rf.f61ad0461659f7810b1a3f2288877d87.jpg', '/content/Tattoo_Types-3/train/descarga-3-_jpg.rf.7e8188c1a25b6d5a5b290d4c68ec6945.jpg', '/content/Tattoo_Types-3/train/images_jpg.rf.7dbda04e79d6016fa754b2da3c2298b8.jpg', '/content/Tattoo_Types-3/train/images_jpg.rf.e875c223d51058a46bd03f7c1fff29d0.jpg', '/content/Tattoo_Types-3/train/descarga-10-_jpg.rf.d36758fb0d5da8f989066521e432187e.jpg', '/content/Tattoo_Types-3/train/images-1-_jpg.rf.ca9f72c8d88a0d73458b106256c59764.jpg', '/content/Tattoo_Types-3/train/tatuaje-gato-acuarela-espalda-logia-barcelona-billy_jpg.rf.f1ff539e275746757a0aa7051bfb33d8.jpg', '/content/Tattoo_Types-3/train/descarga-4-_jpg.rf.82bc982de0b5b6d98e2d822480a48747.jpg', '/content/Tattoo_Types-3/train/descarga-7-_jpg.rf.a195ebabe5ef145a74df39bb8e7fe1a9.jpg', '/content/Tattoo_Types-3/train/images-1-_jpg.rf.c76587da47a894ee9dfeea15d9a4fe13.jpg', '/content/Tattoo_Types-3/train/5b8a549ebf263ec8949b8114fdcbf473_jpg.rf.25064d42139002cb4e3096365ac0c30b.jpg', '/content/Tattoo_Types-3/train/13e7ce84aab22ea9a40deb91f567b211_jpg.rf.f9ff7c0f487788f254afc6097c1a01f3.jpg', '/content/Tattoo_Types-3/train/images-1-_jpg.rf.2c1dc1ff4a2a4708b754f84a818ec3ed.jpg', '/content/Tattoo_Types-3/train/descarga_jpg.rf.fb679c6b4ed6aab588cb6825e2805394.jpg', '/content/Tattoo_Types-3/train/descarga-7-_jpg.rf.7356913199283d5d588ffc4e3eb612a0.jpg', '/content/Tattoo_Types-3/train/4a04a6d5c34c3f77a5e6ef75155bbb3a_jpg.rf.706c4db06dd90287c9e591c1ef98d060.jpg', '/content/Tattoo_Types-3/train/images-4-_jpg.rf.4190445ed452f8a769a33955099185f9.jpg', '/content/Tattoo_Types-3/train/descarga-7-_jpg.rf.1f1ed05d816656e8e3e72e9426ef7081.jpg', '/content/Tattoo_Types-3/train/62e7e6ae9044f4568b5a2ef77d1e9f6d_jpg.rf.0c30a58f7e1d37f7f4964ee73d220729.jpg', '/content/Tattoo_Types-3/train/descarga-1-_jpg.rf.0c065cf345947525a6ffacaf3b57ec0d.jpg', '/content/Tattoo_Types-3/train/descarga-5-_jpg.rf.2dddb5f26e5f717a0e56f2dc9afb0a51.jpg', '/content/Tattoo_Types-3/train/images_jpg.rf.3fd54d8f44ca45a3b9ca415441e30097.jpg', '/content/Tattoo_Types-3/train/images-3-_jpg.rf.20d7399e46c2817a0bc91599342741de.jpg', '/content/Tattoo_Types-3/train/8d6cc5da6f74feebeb9e75512bfc211a_jpg.rf.4d15645e24aa54aeda912458cd1a3158.jpg', '/content/Tattoo_Types-3/train/images-1-_jpg.rf.c57abfb68a8b6b3364c637549c9bfc44.jpg', '/content/Tattoo_Types-3/train/descarga-3-_jpg.rf.fbdd834aad567ec96cbc621462888d53.jpg', '/content/Tattoo_Types-3/train/descarga_jpg.rf.36496a7e541dc773a5ee4b242d9df9cf.jpg', '/content/Tattoo_Types-3/train/tatuaje-gato-acuarela-espalda-logia-barcelona-billy_jpg.rf.4dff957e6b50c26e8640ae5a69f45266.jpg', '/content/Tattoo_Types-3/train/descarga_jpg.rf.4b468a3749211a7c58fe4fc4d2a8af0b.jpg', '/content/Tattoo_Types-3/train/2b7094a4831a7e32e78afdf74cc6f783_jpg.rf.d82f32f6c3384525231ef2796419848d.jpg', '/content/Tattoo_Types-3/train/descarga-2-_jpg.rf.511bdc80209f8ca3c00382dafaefb8a0.jpg', '/content/Tattoo_Types-3/train/descarga-12-_jpg.rf.756b59557a2bbecfc120161dc79c93e8.jpg', '/content/Tattoo_Types-3/train/descarga_jpg.rf.9763ccc986c06fda8324de91cd4af447.jpg', '/content/Tattoo_Types-3/train/images-4-_jpg.rf.64711cbfb9a837346aa6afb0502aa721.jpg', '/content/Tattoo_Types-3/train/descarga-11-_jpg.rf.1d1870c2df5f909f7652bd1743b88a09.jpg', '/content/Tattoo_Types-3/train/8921c632d45e0439bec3d9283a52913a_jpg.rf.f024bfa23b3dada28c1f0fdd48ebcc10.jpg', '/content/Tattoo_Types-3/train/images-2-_jpg.rf.d62c417eb56f41fc7448e201a5c4e7f8.jpg', '/content/Tattoo_Types-3/train/images-2-_jpg.rf.2e7916ff4a8221e0db4c82baddecee32.jpg', '/content/Tattoo_Types-3/train/descarga-4-_jpg.rf.bcc6aeb6c8a73b17b6defc14559f5f1f.jpg', '/content/Tattoo_Types-3/train/images_jpg.rf.84a1a28ada784cacafce9d2fc9df3ef3.jpg', '/content/Tattoo_Types-3/train/images_jpg.rf.fb367dc9740450117c24fa4071bbf517.jpg', '/content/Tattoo_Types-3/train/images_jpg.rf.6606ffd67dbef3c46c65fdb61933848e.jpg', '/content/Tattoo_Types-3/train/images-1-_jpg.rf.ba3c3868bf87f46abaafc8df36dd2520.jpg', '/content/Tattoo_Types-3/train/images_jpg.rf.7a11a7524d0a8a04ed80fd7aa89f63e0.jpg', '/content/Tattoo_Types-3/train/images-6-_jpg.rf.6506d661252c8ff71d64d248ebe4cf81.jpg', '/content/Tattoo_Types-3/train/images-1-_jpg.rf.03b65a7f91c9d5a278e298c63680488f.jpg', '/content/Tattoo_Types-3/train/descarga-1-_jpg.rf.6a7bc9dacb2f33adc11d6f2de6788f9b.jpg', '/content/Tattoo_Types-3/train/images_jpg.rf.12732097c9ac36943b179cec82ac1e1b.jpg', '/content/Tattoo_Types-3/train/descarga_jpg.rf.05e2d6a292da981a3310cbbe0edc4f23.jpg', '/content/Tattoo_Types-3/train/images-1-_jpg.rf.031a64d178148b343d1c73c432925d69.jpg', '/content/Tattoo_Types-3/train/images_jpg.rf.b34c7ed3dedf50d6afd1366c27144fc8.jpg', '/content/Tattoo_Types-3/train/descarga-1-_jpg.rf.2840fefb25ecc77f7dbd1cfd4fa07331.jpg', '/content/Tattoo_Types-3/train/cf34b84f8d3c6079ac3450bb8537539f_jpg.rf.d6fd847c9663f310c50f2050da4998de.jpg', '/content/Tattoo_Types-3/train/8d6cc5da6f74feebeb9e75512bfc211a_jpg.rf.d5e301a6f1d71a89882a2f097c6f085f.jpg', '/content/Tattoo_Types-3/train/3e5787e03452dc64aae5ffe9059946c4_jpg.rf.e9f72137d7ed730b303f59d701eb3e0c.jpg', '/content/Tattoo_Types-3/train/8921c632d45e0439bec3d9283a52913a_jpg.rf.fc293613830e97b4cd8c25e6ba4e8771.jpg', '/content/Tattoo_Types-3/train/images_jpg.rf.83eb56448c88e5b7c26b86ab2eb87368.jpg', '/content/Tattoo_Types-3/train/images-4-_jpg.rf.8e30842f822e351709c7d9896c30b6db.jpg', '/content/Tattoo_Types-3/train/descarga-8-_jpg.rf.f1c8b8bca0d96f63cd87249cd902b5e1.jpg', '/content/Tattoo_Types-3/train/5b8a549ebf263ec8949b8114fdcbf473_jpg.rf.a488cba65e48d6bcf6ce7de437ccaf87.jpg', '/content/Tattoo_Types-3/train/descarga-6-_jpg.rf.00bf6ba8e40de5a1a9ebed46a2e1a1e2.jpg', '/content/Tattoo_Types-3/train/descarga-6-_jpg.rf.002e1900d75b492906810671588d8e2a.jpg', '/content/Tattoo_Types-3/train/descarga-1-_jpg.rf.97534cdf24af2d303bb8cd7fbca94a26.jpg', '/content/Tattoo_Types-3/train/images_jpg.rf.a7b153933a4dfc54c739701d58f3a73d.jpg', '/content/Tattoo_Types-3/train/images-2-_jpg.rf.75572543f8e7417305797df0710dda2f.jpg', '/content/Tattoo_Types-3/train/6fe030da732b96912ff30d59716718e9_jpg.rf.0d253e5d5e9771d1d1286e12e14586f3.jpg', '/content/Tattoo_Types-3/train/descarga-10-_jpg.rf.faae1dd5ba36ee4505eb055cb74c064a.jpg', '/content/Tattoo_Types-3/train/tatuaje_Logia_Barcelona_Julio_Voltaje_Aguila_02_jpg.rf.9861bfe994f0f7a14eeda3212e9c86df.jpg', '/content/Tattoo_Types-3/train/HD-wallpaper-american-traditional-tattoo-designs-ideas-tattoos-ai_jpg.rf.1c0cc7a937efa333c73f14a0bba1f3c2.jpg', '/content/Tattoo_Types-3/train/descarga-6-_jpg.rf.2e01a17ddc4bcd03c1f19398f85f7bb1.jpg', '/content/Tattoo_Types-3/train/descarga-5-_jpg.rf.3ecba7a389aa6d8b5b11e377dc441e74.jpg', '/content/Tattoo_Types-3/train/descarga-4-_jpg.rf.b846323c1e4986866d8c3455cc23b86e.jpg', '/content/Tattoo_Types-3/train/images_jpg.rf.4e104b060187aa0b7ff506f096f0aef9.jpg', '/content/Tattoo_Types-3/train/descarga-8-_jpg.rf.89e31dbe754d1f76216abeeea7f1a4c2.jpg', '/content/Tattoo_Types-3/train/6fe030da732b96912ff30d59716718e9_jpg.rf.4fc9e65c49a97a4691d508d49f9a9181.jpg', '/content/Tattoo_Types-3/train/descarga-2-_jpg.rf.f79b59f743f55c8d032f9e5e3759c3be.jpg', '/content/Tattoo_Types-3/train/descarga-12-_jpg.rf.247adb1fc1e0d6394682fa54c2a2e04f.jpg', '/content/Tattoo_Types-3/train/7735e49e88b9f354c4827a93c519c12f_jpg.rf.08991ea879710c14b1d464ce1c95733c.jpg', '/content/Tattoo_Types-3/train/descarga-5-_jpg.rf.a9a41dcc9f8bd6a7849dbb4c4035c264.jpg', '/content/Tattoo_Types-3/train/descarga-3-_jpg.rf.2515bdda2aa2d5ad8ffbb81e6c384aa7.jpg', '/content/Tattoo_Types-3/train/descarga-3-_jpg.rf.6de95447bcec2c1efaa7e2013ea98228.jpg', '/content/Tattoo_Types-3/train/1_l-D5X1eY5MZUJ4u_wrViqQ_jpg.rf.e14338dc338a02acabedd700b7564a58.jpg', '/content/Tattoo_Types-3/train/images-2-_jpg.rf.31964baf9771ac9a8d6f19b9e5a35dd6.jpg', '/content/Tattoo_Types-3/train/descarga-2-_jpg.rf.cb0ba38134d66b65bb8a0397f4aac51f.jpg', '/content/Tattoo_Types-3/train/images-3-_jpg.rf.221b9536dcf7eea1b1fa495dbd764bae.jpg', '/content/Tattoo_Types-3/train/1_l-D5X1eY5MZUJ4u_wrViqQ_jpg.rf.54a21e7353d425b4955b948ded43c285.jpg', '/content/Tattoo_Types-3/train/images-5-_jpg.rf.b42fbd83d9dd9aaed83b6ede0566724b.jpg', '/content/Tattoo_Types-3/train/tatuaje_Logia_Barcelona_Julio_Voltaje_Aguila_02_jpg.rf.54c85062a12ee02bad94267c9906b555.jpg', '/content/Tattoo_Types-3/train/images_jpg.rf.dc065f2ccbeb1d0023255d2c7862fe59.jpg', '/content/Tattoo_Types-3/train/descarga-8-_jpg.rf.e358dcb142a573e94c82da44b8d48f4c.jpg', '/content/Tattoo_Types-3/train/descarga-1-_jpg.rf.f11a7ec24034623f8dc4b6c9afba6852.jpg', '/content/Tattoo_Types-3/train/descarga-3-_jpg.rf.72b565ff148a8570019bdba614d3f048.jpg', '/content/Tattoo_Types-3/train/images_jpg.rf.2376eacaf8ce9873011481712d21f30a.jpg', '/content/Tattoo_Types-3/train/descarga-1-_jpg.rf.3cd4486c1c51a23fd79a10de74d3b665.jpg', '/content/Tattoo_Types-3/train/images_jpg.rf.23a1a13d97ad661bcf11d1719fc2f5d3.jpg', '/content/Tattoo_Types-3/train/images-2-_jpg.rf.4b72163ac4d637b8af311b8e42f78a22.jpg', '/content/Tattoo_Types-3/train/descarga-12-_jpg.rf.4f0c5f92c694d2ac12aaf81e3414fe5e.jpg', '/content/Tattoo_Types-3/train/descarga-11-_jpg.rf.31b90e9fe64024573f7420594759afe2.jpg', '/content/Tattoo_Types-3/train/images-6-_jpg.rf.42021be96d8e2b2a778bc2b15e28687f.jpg', '/content/Tattoo_Types-3/train/descarga-5-_jpg.rf.8ae3745067af73bfcd410ffd3ea6b4ee.jpg', '/content/Tattoo_Types-3/train/descarga-5-_jpg.rf.0d6a0a6e6f3e12a9e8b3d7c49000d8b9.jpg', '/content/Tattoo_Types-3/train/HD-wallpaper-american-traditional-tattoo-designs-ideas-tattoos-ai_jpg.rf.f084b1eb5be49512005df26f56c3311b.jpg', '/content/Tattoo_Types-3/train/images-2-_jpg.rf.b72a5046851161234a6c870d8981bfd6.jpg', '/content/Tattoo_Types-3/train/cf34b84f8d3c6079ac3450bb8537539f_jpg.rf.9eb9877f4bb60117c0dbdb015bb5370b.jpg', '/content/Tattoo_Types-3/train/descarga_jpg.rf.2339e1835504a10bcc9ad29526118506.jpg', '/content/Tattoo_Types-3/train/descarga-8-_jpg.rf.27e892b90a939760f69705948e5fe4f5.jpg', '/content/Tattoo_Types-3/train/descarga-4-_jpg.rf.af96c56112a29b41ee4f346329e59945.jpg', '/content/Tattoo_Types-3/train/f7d14161b2f09f8ced10a414ac382f8b_jpg.rf.5f64b18aa98992f1e13b24bc66a5bbf4.jpg', '/content/Tattoo_Types-3/train/2b7094a4831a7e32e78afdf74cc6f783_jpg.rf.b018f76f4c09cfbc219686569639bc22.jpg', '/content/Tattoo_Types-3/train/descarga-6-_jpg.rf.113ed9a39b0d2583e3a5898a66472a87.jpg', '/content/Tattoo_Types-3/train/8d6cc5da6f74feebeb9e75512bfc211a_jpg.rf.37424e4fcede341958fa76d74240a4dc.jpg', '/content/Tattoo_Types-3/train/descarga-5-_jpg.rf.01f4c5d6b5d0b5c250c573b914fc57eb.jpg', '/content/Tattoo_Types-3/train/1_cNAsQonQNisFmaPH9aqebw_jpg.rf.0b70f62ee5a9da5794b0d7202737f0b5.jpg', '/content/Tattoo_Types-3/train/descarga-4-_jpg.rf.160b1bb13f632d302c4ebc1bdbc81c57.jpg', '/content/Tattoo_Types-3/train/descarga-3-_jpg.rf.3c555608f34cdce71c709897c1b134ec.jpg', '/content/Tattoo_Types-3/train/descarga-6-_jpg.rf.c2f9a5abd105cdf92f101fbf323007fb.jpg', '/content/Tattoo_Types-3/train/4a04a6d5c34c3f77a5e6ef75155bbb3a_jpg.rf.f85cdd16707075bb467b8cd10edc572c.jpg', '/content/Tattoo_Types-3/train/descarga-11-_jpg.rf.6b19ff4e88f7ce108015dd5d3db8ad6c.jpg', '/content/Tattoo_Types-3/train/descarga-3-_jpg.rf.9590d36c9b0f336abdabc3d9f0f6d68a.jpg', '/content/Tattoo_Types-3/train/62e7e6ae9044f4568b5a2ef77d1e9f6d_jpg.rf.27c18d3cb5ea5aa5493489df70155374.jpg']\n",
            "\n",
            "Validation images:\n",
            "Total images in /content/Tattoo_Types-3/valid: 25\n",
            "['/content/Tattoo_Types-3/valid/images-1-_jpg.rf.5bcc081b70ba1f65bb78fa52f1cbbbbb.jpg', '/content/Tattoo_Types-3/valid/images-6-_jpg.rf.ddcf44b9c8f712add27ed2384a0ec84f.jpg', '/content/Tattoo_Types-3/valid/images-1-_jpg.rf.cf7f46b98ba2384830f75142d4c5a8c1.jpg', '/content/Tattoo_Types-3/valid/descarga-2-_jpg.rf.237485647dc97dace577fa77b184bfd6.jpg', '/content/Tattoo_Types-3/valid/descarga-9-_jpg.rf.1debaa1b5de304dc569b557c4ee428fb.jpg', '/content/Tattoo_Types-3/valid/descarga-6-_jpg.rf.72b65701c967f596b9a415c21b096fb4.jpg', '/content/Tattoo_Types-3/valid/descarga_jpg.rf.38685595e348eb380a6da2778d669b5d.jpg', '/content/Tattoo_Types-3/valid/fposter-small-wall_texture-square_product-600x600-u4_jpg.rf.c9ff024d7f1d9e6d5c9d94db617e9a91.jpg', '/content/Tattoo_Types-3/valid/2e2af2e3bb619ac98c347f8c1ab791c3_jpg.rf.2b59cb07c47c7458f68977445a64834e.jpg', '/content/Tattoo_Types-3/valid/dog_acuarela_jpg.rf.de6be11f03ec06689666cbbe2ee8fd51.jpg', '/content/Tattoo_Types-3/valid/b7d7a06b1cfcb6c46cb9e8b90a412296_jpg.rf.12355925fa7c58f7716d54e369e10ba0.jpg', '/content/Tattoo_Types-3/valid/descarga-3-_jpg.rf.d6434032a98230d8f5c59a15acdb513f.jpg', '/content/Tattoo_Types-3/valid/images-5-_jpg.rf.a38c86b691fd6719b870811aca8696e8.jpg', '/content/Tattoo_Types-3/valid/descarga-11-_jpg.rf.1e1f72643470965d371e025cb14e6f79.jpg', '/content/Tattoo_Types-3/valid/descarga-7-_jpg.rf.e7f32fb18429390a349d1c28fa762943.jpg', '/content/Tattoo_Types-3/valid/descarga-1-_jpg.rf.ffb16cb946d4b4a69d26f0df6214ade3.jpg', '/content/Tattoo_Types-3/valid/images-3-_jpg.rf.38d347e288609fca48a643a205e08bd1.jpg', '/content/Tattoo_Types-3/valid/American-Traditional-Tattoo_jpg.rf.ae009d15e0327819a0e409adce216b79.jpg', '/content/Tattoo_Types-3/valid/2b7b7a4fef9c9ae882bedab07e73ff15_jpg.rf.1f84126a39f8e5b493dd4f7915bb8d38.jpg', '/content/Tattoo_Types-3/valid/descarga-4-_jpg.rf.c0fb139b96d94c789c8210711cdbe65d.jpg', '/content/Tattoo_Types-3/valid/c4ebb0c54ff2f03d761a42bce58ddaec_jpg.rf.1d119081b22821ce3ab528cfb1130eea.jpg', '/content/Tattoo_Types-3/valid/descarga-2-_jpg.rf.a5218eb399bc8fa77fb5aeaa95bf005e.jpg', '/content/Tattoo_Types-3/valid/descarga-2-_jpg.rf.98bf30852a518ae2f25c7a0d49f28446.jpg', '/content/Tattoo_Types-3/valid/descarga-9-_jpg.rf.4c0c2952b77ecccdd192b291d0901f1d.jpg', '/content/Tattoo_Types-3/valid/images-2-_jpg.rf.3d5de6c991b39c4f73616eb14855f1ad.jpg']\n"
          ]
        }
      ]
    },
    {
      "cell_type": "markdown",
      "source": [
        "# Organizar las imagenes de la carpeta de train"
      ],
      "metadata": {
        "id": "Fm3Ux4dUulKw"
      }
    },
    {
      "cell_type": "code",
      "source": [
        "import os\n",
        "import shutil\n",
        "import pandas as pd\n",
        "\n",
        "# Ruta al archivo CSV y a la carpeta de imágenes\n",
        "csv_path = \"/content/Tattoo_Types-3/train/_classes.csv\"\n",
        "source_dir = a  # Lista con las rutas de las imágenes\n",
        "\n",
        "# Cargar el archivo CSV\n",
        "data = pd.read_csv(csv_path)\n",
        "\n",
        "# Limpiar nombres de columnas eliminando espacios iniciales si los hay\n",
        "data.columns = data.columns.str.strip()\n",
        "\n",
        "# Crear un directorio de destino para las imágenes organizadas\n",
        "train_dir = 'train_org'\n",
        "os.makedirs(train_dir, exist_ok=True)\n",
        "\n",
        "# Procesar cada fila del CSV\n",
        "for _, row in data.iterrows():\n",
        "    filename = row['filename']\n",
        "    # Determinar la clase a partir de las columnas binarias\n",
        "    classes = row[1:]  # Todas las columnas excepto 'filename'\n",
        "    target_classes = classes[classes == 1].index.tolist()\n",
        "\n",
        "    # Validar si existe al menos una clase para la imagen\n",
        "    if not target_classes:\n",
        "        print(f\"No se encontró clase para la imagen {filename}.\")\n",
        "        continue\n",
        "\n",
        "    # Buscar la ruta completa de la imagen en la lista de rutas\n",
        "    image_path = next((path for path in source_dir if filename in path), None)\n",
        "\n",
        "    if not image_path:\n",
        "        print(f\"No se encontró la imagen {filename} en la lista.\")\n",
        "        continue\n",
        "\n",
        "    # Mover o copiar la imagen a la carpeta de cada clase correspondiente\n",
        "    for cls in target_classes:\n",
        "        class_dir = os.path.join(train_dir, cls)\n",
        "        os.makedirs(class_dir, exist_ok=True)  # Crear la carpeta si no existe\n",
        "\n",
        "        dest_path = os.path.join(class_dir, os.path.basename(image_path))\n",
        "        shutil.copy(image_path, dest_path)  # Cambia `copy` a `move` si deseas mover\n",
        "        print(f\"Imagen {filename} copiada a {class_dir}.\")"
      ],
      "metadata": {
        "colab": {
          "base_uri": "https://localhost:8080/"
        },
        "id": "HhAHN03TiDJU",
        "outputId": "76129728-71a5-466b-e72e-ee3a16a990b2"
      },
      "execution_count": 9,
      "outputs": [
        {
          "output_type": "stream",
          "name": "stdout",
          "text": [
            "Imagen descarga-6-_jpg.rf.002e1900d75b492906810671588d8e2a.jpg copiada a train_org/Neotradicional.\n",
            "Imagen descarga-6-_jpg.rf.00bf6ba8e40de5a1a9ebed46a2e1a1e2.jpg copiada a train_org/Neotradicional.\n",
            "Imagen descarga-1-_jpg.rf.0380ab95dcbd03c89babe1c1f875af42.jpg copiada a train_org/Old-School.\n",
            "Imagen images-1-_jpg.rf.00030ba64f621878f9b3193761cd25ca.jpg copiada a train_org/Old-School.\n",
            "Imagen 7735e49e88b9f354c4827a93c519c12f_jpg.rf.08991ea879710c14b1d464ce1c95733c.jpg copiada a train_org/Old-School.\n",
            "Imagen descarga-1-_jpg.rf.0c065cf345947525a6ffacaf3b57ec0d.jpg copiada a train_org/Blackwork.\n",
            "Imagen descarga_jpg.rf.092610ccbc89a1cb9d9de624c1e57cdd.jpg copiada a train_org/Dotwork.\n",
            "Imagen images-1-_jpg.rf.06392eb9ca6cf8807eb5e7ccbb3596a1.jpg copiada a train_org/Dotwork.\n",
            "Imagen descarga_jpg.rf.05e2d6a292da981a3310cbbe0edc4f23.jpg copiada a train_org/Blackwork.\n",
            "Imagen 6fe030da732b96912ff30d59716718e9_jpg.rf.0d253e5d5e9771d1d1286e12e14586f3.jpg copiada a train_org/Old-School.\n",
            "Imagen 62e7e6ae9044f4568b5a2ef77d1e9f6d_jpg.rf.0c30a58f7e1d37f7f4964ee73d220729.jpg copiada a train_org/Old-School.\n",
            "Imagen images-6-_jpg.rf.0b868dbcd747cc1f073af1cac86849b8.jpg copiada a train_org/Old-School.\n",
            "Imagen 1_cNAsQonQNisFmaPH9aqebw_jpg.rf.0b70f62ee5a9da5794b0d7202737f0b5.jpg copiada a train_org/Blackwork.\n",
            "Imagen cf34b84f8d3c6079ac3450bb8537539f_jpg.rf.14856412dba052cd5158021fa2edea16.jpg copiada a train_org/Old-School.\n",
            "Imagen images-1-_jpg.rf.03b65a7f91c9d5a278e298c63680488f.jpg copiada a train_org/Blackwork.\n",
            "Imagen descarga-5-_jpg.rf.01f4c5d6b5d0b5c250c573b914fc57eb.jpg copiada a train_org/Old-School.\n",
            "Imagen descarga-12-_jpg.rf.247adb1fc1e0d6394682fa54c2a2e04f.jpg copiada a train_org/Blackwork.\n",
            "Imagen images-3-_jpg.rf.221b9536dcf7eea1b1fa495dbd764bae.jpg copiada a train_org/Dotwork.\n",
            "Imagen 1_cNAsQonQNisFmaPH9aqebw_jpg.rf.0216b3deb4c512b1afde7377359b8ac0.jpg copiada a train_org/Blackwork.\n",
            "Imagen 1_cNAsQonQNisFmaPH9aqebw_jpg.rf.1dfbde6e05757edec3dfd4c7faaa54f1.jpg copiada a train_org/Blackwork.\n",
            "Imagen images_jpg.rf.23a1a13d97ad661bcf11d1719fc2f5d3.jpg copiada a train_org/Old-School.\n",
            "Imagen HD-wallpaper-american-traditional-tattoo-designs-ideas-tattoos-ai_jpg.rf.1c0cc7a937efa333c73f14a0bba1f3c2.jpg copiada a train_org/Old-School.\n",
            "Imagen descarga-11-_jpg.rf.1d1870c2df5f909f7652bd1743b88a09.jpg copiada a train_org/Blackwork.\n",
            "Imagen descarga-5-_jpg.rf.0d6a0a6e6f3e12a9e8b3d7c49000d8b9.jpg copiada a train_org/Dotwork.\n",
            "Imagen descarga-7-_jpg.rf.1f1ed05d816656e8e3e72e9426ef7081.jpg copiada a train_org/Neotradicional.\n",
            "Imagen images-3-_jpg.rf.20d7399e46c2817a0bc91599342741de.jpg copiada a train_org/Dotwork.\n",
            "Imagen images-5-_jpg.rf.15dcfaa0e88e1fd511a4a72c2c80b629.jpg copiada a train_org/Old-School.\n",
            "Imagen images_jpg.rf.2376eacaf8ce9873011481712d21f30a.jpg copiada a train_org/Blackwork.\n",
            "Imagen images_jpg.rf.12732097c9ac36943b179cec82ac1e1b.jpg copiada a train_org/Old-School.\n",
            "Imagen images_jpg.rf.23a8fc67943958ff60596df8cd3c9c39.jpg copiada a train_org/Acuarela.\n",
            "Imagen descarga-4-_jpg.rf.160b1bb13f632d302c4ebc1bdbc81c57.jpg copiada a train_org/Blackwork.\n",
            "Imagen descarga_jpg.rf.2339e1835504a10bcc9ad29526118506.jpg copiada a train_org/Dotwork.\n",
            "Imagen descarga-6-_jpg.rf.113ed9a39b0d2583e3a5898a66472a87.jpg copiada a train_org/Old-School.\n",
            "Imagen 5b8a549ebf263ec8949b8114fdcbf473_jpg.rf.25064d42139002cb4e3096365ac0c30b.jpg copiada a train_org/Old-School.\n",
            "Imagen descarga-3-_jpg.rf.2515bdda2aa2d5ad8ffbb81e6c384aa7.jpg copiada a train_org/Dotwork.\n",
            "Imagen descarga-1-_jpg.rf.29f9648e322795f860a65023aad86914.jpg copiada a train_org/Dotwork.\n",
            "Imagen descarga-8-_jpg.rf.27e892b90a939760f69705948e5fe4f5.jpg copiada a train_org/Blackwork.\n",
            "Imagen descarga-1-_jpg.rf.2840fefb25ecc77f7dbd1cfd4fa07331.jpg copiada a train_org/Blackwork.\n",
            "Imagen 62e7e6ae9044f4568b5a2ef77d1e9f6d_jpg.rf.27c18d3cb5ea5aa5493489df70155374.jpg copiada a train_org/Old-School.\n",
            "Imagen images-1-_jpg.rf.031a64d178148b343d1c73c432925d69.jpg copiada a train_org/Dotwork.\n",
            "Imagen tatuaje-gato-acuarela-espalda-logia-barcelona-billy_jpg.rf.29e7ef9ceb465ce757761343f16f10b1.jpg copiada a train_org/Acuarela.\n",
            "Imagen 8d6cc5da6f74feebeb9e75512bfc211a_jpg.rf.37424e4fcede341958fa76d74240a4dc.jpg copiada a train_org/Old-School.\n",
            "Imagen descarga_jpg.rf.36496a7e541dc773a5ee4b242d9df9cf.jpg copiada a train_org/Neotradicional.\n",
            "Imagen descarga-6-_jpg.rf.4085bff804dc30b31cb80ae3aecd8ed6.jpg copiada a train_org/Blackwork.\n",
            "Imagen 13e7ce84aab22ea9a40deb91f567b211_jpg.rf.2f8b18ec0249214cc390cca297bf9176.jpg copiada a train_org/Old-School.\n",
            "Imagen descarga-5-_jpg.rf.3ecba7a389aa6d8b5b11e377dc441e74.jpg copiada a train_org/Neotradicional.\n",
            "Imagen descarga-5-_jpg.rf.2dddb5f26e5f717a0e56f2dc9afb0a51.jpg copiada a train_org/Dotwork.\n",
            "Imagen descarga-11-_jpg.rf.31b90e9fe64024573f7420594759afe2.jpg copiada a train_org/Blackwork.\n",
            "Imagen f7d14161b2f09f8ced10a414ac382f8b_jpg.rf.3ec1b479a1b97774eaf5382401328415.jpg copiada a train_org/Old-School.\n",
            "Imagen descarga-3-_jpg.rf.3c555608f34cdce71c709897c1b134ec.jpg copiada a train_org/Old-School.\n",
            "Imagen descarga-1-_jpg.rf.3cd4486c1c51a23fd79a10de74d3b665.jpg copiada a train_org/Old-School.\n",
            "Imagen descarga-8-_jpg.rf.4bd84e3812dad52fd1ce38635d9d3bff.jpg copiada a train_org/Blackwork.\n",
            "Imagen images-2-_jpg.rf.4b72163ac4d637b8af311b8e42f78a22.jpg copiada a train_org/Neotradicional.\n",
            "Imagen descarga-6-_jpg.rf.2e01a17ddc4bcd03c1f19398f85f7bb1.jpg copiada a train_org/Blackwork.\n",
            "Imagen descarga-8-_jpg.rf.450d83ac2f5e5433978885835978e13c.jpg copiada a train_org/Neotradicional.\n",
            "Imagen images-4-_jpg.rf.4190445ed452f8a769a33955099185f9.jpg copiada a train_org/Old-School.\n",
            "Imagen images-2-_jpg.rf.31964baf9771ac9a8d6f19b9e5a35dd6.jpg copiada a train_org/Neotradicional.\n",
            "Imagen images-1-_jpg.rf.2c1dc1ff4a2a4708b754f84a818ec3ed.jpg copiada a train_org/Old-School.\n",
            "Imagen images_jpg.rf.3fd54d8f44ca45a3b9ca415441e30097.jpg copiada a train_org/Blackwork.\n",
            "Imagen 8d6cc5da6f74feebeb9e75512bfc211a_jpg.rf.4d15645e24aa54aeda912458cd1a3158.jpg copiada a train_org/Old-School.\n",
            "Imagen images-2-_jpg.rf.2e7916ff4a8221e0db4c82baddecee32.jpg copiada a train_org/Old-School.\n",
            "Imagen images-1-_jpg.rf.4aab9c3055b34f0cd46167d96276b990.jpg copiada a train_org/Old-School.\n",
            "Imagen descarga_jpg.rf.4b468a3749211a7c58fe4fc4d2a8af0b.jpg copiada a train_org/Neotradicional.\n",
            "Imagen images-6-_jpg.rf.42021be96d8e2b2a778bc2b15e28687f.jpg copiada a train_org/Old-School.\n",
            "Imagen tatuaje-gato-acuarela-espalda-logia-barcelona-billy_jpg.rf.4dff957e6b50c26e8640ae5a69f45266.jpg copiada a train_org/Acuarela.\n",
            "Imagen descarga-12-_jpg.rf.4f0c5f92c694d2ac12aaf81e3414fe5e.jpg copiada a train_org/Blackwork.\n",
            "Imagen tatuaje_Logia_Barcelona_Julio_Voltaje_Aguila_02_jpg.rf.54c85062a12ee02bad94267c9906b555.jpg copiada a train_org/Old-School.\n",
            "Imagen descarga-2-_jpg.rf.5e37e18e7858b52d5022a1222dca2f2e.jpg copiada a train_org/Acuarela.\n",
            "Imagen 1_l-D5X1eY5MZUJ4u_wrViqQ_jpg.rf.54a21e7353d425b4955b948ded43c285.jpg copiada a train_org/Dotwork.\n",
            "Imagen images_jpg.rf.4e104b060187aa0b7ff506f096f0aef9.jpg copiada a train_org/Old-School.\n",
            "Imagen 6fe030da732b96912ff30d59716718e9_jpg.rf.4fc9e65c49a97a4691d508d49f9a9181.jpg copiada a train_org/Old-School.\n",
            "Imagen 3e5787e03452dc64aae5ffe9059946c4_jpg.rf.69847e6e948f4866c373d63285fb9892.jpg copiada a train_org/Acuarela.\n",
            "Imagen f7d14161b2f09f8ced10a414ac382f8b_jpg.rf.5f64b18aa98992f1e13b24bc66a5bbf4.jpg copiada a train_org/Old-School.\n",
            "Imagen images-6-_jpg.rf.6506d661252c8ff71d64d248ebe4cf81.jpg copiada a train_org/Old-School.\n",
            "Imagen 4a04a6d5c34c3f77a5e6ef75155bbb3a_jpg.rf.706c4db06dd90287c9e591c1ef98d060.jpg copiada a train_org/Old-School.\n",
            "Imagen descarga-3-_jpg.rf.6de95447bcec2c1efaa7e2013ea98228.jpg copiada a train_org/Old-School.\n",
            "Imagen descarga-2-_jpg.rf.511bdc80209f8ca3c00382dafaefb8a0.jpg copiada a train_org/Neotradicional.\n",
            "Imagen f7d14161b2f09f8ced10a414ac382f8b_jpg.rf.6dd6c0dc2557a6a1818d3cedb1ec6171.jpg copiada a train_org/Old-School.\n",
            "Imagen descarga-2-_jpg.rf.665539d2ff39ab4b5db055259635e3db.jpg copiada a train_org/Acuarela.\n",
            "Imagen 1_l-D5X1eY5MZUJ4u_wrViqQ_jpg.rf.641f7c5def59dec6f5508ad1fbd856fd.jpg copiada a train_org/Dotwork.\n",
            "Imagen images-2-_jpg.rf.660bfb4f527bdcef7c79c47dde93d2a2.jpg copiada a train_org/Old-School.\n",
            "Imagen images_jpg.rf.6ef6adefc55b295d6b3ed3bb43de487f.jpg copiada a train_org/Old-School.\n",
            "Imagen descarga-1-_jpg.rf.6a7bc9dacb2f33adc11d6f2de6788f9b.jpg copiada a train_org/Neotradicional.\n",
            "Imagen descarga_jpg.rf.71cf054d123c0a6456cbd82b46d97698.jpg copiada a train_org/Dotwork.\n",
            "Imagen images-4-_jpg.rf.64711cbfb9a837346aa6afb0502aa721.jpg copiada a train_org/Old-School.\n",
            "Imagen images_jpg.rf.6606ffd67dbef3c46c65fdb61933848e.jpg copiada a train_org/Neotradicional.\n",
            "Imagen 13e7ce84aab22ea9a40deb91f567b211_jpg.rf.71e2142b76bf8d1f901b58438205d283.jpg copiada a train_org/Old-School.\n",
            "Imagen descarga_jpg.rf.552b5f48e6b026f5e5780e186a6d5059.jpg copiada a train_org/Blackwork.\n",
            "Imagen images-2-_jpg.rf.6e864eaed824cc2c1c2b28d34a685b42.jpg copiada a train_org/Neotradicional.\n",
            "Imagen descarga-7-_jpg.rf.7356913199283d5d588ffc4e3eb612a0.jpg copiada a train_org/Neotradicional.\n",
            "Imagen descarga-3-_jpg.rf.72b565ff148a8570019bdba614d3f048.jpg copiada a train_org/Dotwork.\n",
            "Imagen descarga-11-_jpg.rf.6b19ff4e88f7ce108015dd5d3db8ad6c.jpg copiada a train_org/Blackwork.\n",
            "Imagen images-4-_jpg.rf.75bc739b152b362f182cf17fcda1380f.jpg copiada a train_org/Acuarela.\n",
            "Imagen descarga-12-_jpg.rf.756b59557a2bbecfc120161dc79c93e8.jpg copiada a train_org/Blackwork.\n",
            "Imagen images-4-_jpg.rf.73fa295085edf173e9de9f247f8dba3d.jpg copiada a train_org/Acuarela.\n",
            "Imagen images-2-_jpg.rf.75572543f8e7417305797df0710dda2f.jpg copiada a train_org/Blackwork.\n",
            "Imagen images-2-_jpg.rf.75572543f8e7417305797df0710dda2f.jpg copiada a train_org/Dotwork.\n",
            "Imagen 7735e49e88b9f354c4827a93c519c12f_jpg.rf.7b0a21fa6634c6bd34537c43a1ffdfe7.jpg copiada a train_org/Old-School.\n",
            "Imagen 6fe030da732b96912ff30d59716718e9_jpg.rf.72a334f44425ae9fa04a8aef8850aa98.jpg copiada a train_org/Old-School.\n",
            "Imagen images_jpg.rf.7a11a7524d0a8a04ed80fd7aa89f63e0.jpg copiada a train_org/Neotradicional.\n",
            "Imagen descarga-3-_jpg.rf.7e8188c1a25b6d5a5b290d4c68ec6945.jpg copiada a train_org/Dotwork.\n",
            "Imagen images_jpg.rf.83eb56448c88e5b7c26b86ab2eb87368.jpg copiada a train_org/Neotradicional.\n",
            "Imagen images_jpg.rf.84a1a28ada784cacafce9d2fc9df3ef3.jpg copiada a train_org/Acuarela.\n",
            "Imagen descarga-6-_jpg.rf.92a430a6588679627142fab52386b435.jpg copiada a train_org/Old-School.\n",
            "Imagen descarga_jpg.rf.9763ccc986c06fda8324de91cd4af447.jpg copiada a train_org/Neotradicional.\n",
            "Imagen descarga-1-_jpg.rf.97534cdf24af2d303bb8cd7fbca94a26.jpg copiada a train_org/Neotradicional.\n",
            "Imagen descarga-1-_jpg.rf.984fbd0af98d1bbed342188d5c3e6fb6.jpg copiada a train_org/Dotwork.\n",
            "Imagen descarga-3-_jpg.rf.84160fb342e412b2112c8b256f5ced19.jpg copiada a train_org/Neotradicional.\n",
            "Imagen images-5-_jpg.rf.9e9a78407893e7fa88b4039604d01833.jpg copiada a train_org/Old-School.\n",
            "Imagen descarga-8-_jpg.rf.89e31dbe754d1f76216abeeea7f1a4c2.jpg copiada a train_org/Neotradicional.\n",
            "Imagen descarga-5-_jpg.rf.8ae3745067af73bfcd410ffd3ea6b4ee.jpg copiada a train_org/Neotradicional.\n",
            "Imagen images-1-_jpg.rf.9b8288ba3c451aa3f492b8728ea8f47f.jpg copiada a train_org/Blackwork.\n",
            "Imagen descarga-5-_jpg.rf.858b19d0f46a76cd1c3ac17f7781a557.jpg copiada a train_org/Old-School.\n",
            "Imagen descarga-4-_jpg.rf.a028172d5425897c94e04f4164306847.jpg copiada a train_org/Old-School.\n",
            "Imagen descarga-7-_jpg.rf.a195ebabe5ef145a74df39bb8e7fe1a9.jpg copiada a train_org/Neotradicional.\n",
            "Imagen descarga-4-_jpg.rf.a3121823e66348b78a383566a3238a85.jpg copiada a train_org/Neotradicional.\n",
            "Imagen images-4-_jpg.rf.8e30842f822e351709c7d9896c30b6db.jpg copiada a train_org/Acuarela.\n",
            "Imagen images_jpg.rf.87272cc77bb41ac8319dbbbae4436633.jpg copiada a train_org/Old-School.\n",
            "Imagen images_jpg.rf.7dbda04e79d6016fa754b2da3c2298b8.jpg copiada a train_org/Old-School.\n",
            "Imagen descarga-3-_jpg.rf.9590d36c9b0f336abdabc3d9f0f6d68a.jpg copiada a train_org/Neotradicional.\n",
            "Imagen images_jpg.rf.a7b153933a4dfc54c739701d58f3a73d.jpg copiada a train_org/Old-School.\n",
            "Imagen 5b8a549ebf263ec8949b8114fdcbf473_jpg.rf.a488cba65e48d6bcf6ce7de437ccaf87.jpg copiada a train_org/Old-School.\n",
            "Imagen descarga-4-_jpg.rf.82bc982de0b5b6d98e2d822480a48747.jpg copiada a train_org/Neotradicional.\n",
            "Imagen tatuaje_Logia_Barcelona_Julio_Voltaje_Aguila_02_jpg.rf.9861bfe994f0f7a14eeda3212e9c86df.jpg copiada a train_org/Old-School.\n",
            "Imagen descarga-5-_jpg.rf.a92f87feaf5b13148fdbecb690d83107.jpg copiada a train_org/Dotwork.\n",
            "Imagen HD-wallpaper-american-traditional-tattoo-designs-ideas-tattoos-ai_jpg.rf.9bf3657f2455b7ba0099c41cfceff53f.jpg copiada a train_org/Old-School.\n",
            "Imagen cf34b84f8d3c6079ac3450bb8537539f_jpg.rf.9eb9877f4bb60117c0dbdb015bb5370b.jpg copiada a train_org/Old-School.\n",
            "Imagen descarga-1-_jpg.rf.b0f1a4282d91eabc71dfc064b1431782.jpg copiada a train_org/Old-School.\n",
            "Imagen descarga-5-_jpg.rf.a9a41dcc9f8bd6a7849dbb4c4035c264.jpg copiada a train_org/Neotradicional.\n",
            "Imagen descarga-4-_jpg.rf.af96c56112a29b41ee4f346329e59945.jpg copiada a train_org/Blackwork.\n",
            "Imagen 2b7094a4831a7e32e78afdf74cc6f783_jpg.rf.afee858fb3738c25e6253bf1441ab4b5.jpg copiada a train_org/Old-School.\n",
            "Imagen images-1-_jpg.rf.a831c8bf132b12f70e248a877455a761.jpg copiada a train_org/Blackwork.\n",
            "Imagen 2b7094a4831a7e32e78afdf74cc6f783_jpg.rf.b018f76f4c09cfbc219686569639bc22.jpg copiada a train_org/Old-School.\n",
            "Imagen descarga-1-_jpg.rf.b012aa626368c668261378b85d375430.jpg copiada a train_org/Dotwork.\n",
            "Imagen descarga-4-_jpg.rf.bcc6aeb6c8a73b17b6defc14559f5f1f.jpg copiada a train_org/Neotradicional.\n",
            "Imagen images-5-_jpg.rf.b42fbd83d9dd9aaed83b6ede0566724b.jpg copiada a train_org/Old-School.\n",
            "Imagen descarga-6-_jpg.rf.c2f9a5abd105cdf92f101fbf323007fb.jpg copiada a train_org/Blackwork.\n",
            "Imagen images_jpg.rf.b34c7ed3dedf50d6afd1366c27144fc8.jpg copiada a train_org/Acuarela.\n",
            "Imagen images-1-_jpg.rf.ba3c3868bf87f46abaafc8df36dd2520.jpg copiada a train_org/Old-School.\n",
            "Imagen images-2-_jpg.rf.b72a5046851161234a6c870d8981bfd6.jpg copiada a train_org/Blackwork.\n",
            "Imagen images-2-_jpg.rf.b72a5046851161234a6c870d8981bfd6.jpg copiada a train_org/Dotwork.\n",
            "Imagen images-1-_jpg.rf.ca9f72c8d88a0d73458b106256c59764.jpg copiada a train_org/Old-School.\n",
            "Imagen images-1-_jpg.rf.c76587da47a894ee9dfeea15d9a4fe13.jpg copiada a train_org/Dotwork.\n",
            "Imagen descarga-2-_jpg.rf.d4ec1eb780399787bc74208feeed64ac.jpg copiada a train_org/Neotradicional.\n",
            "Imagen images-1-_jpg.rf.c57abfb68a8b6b3364c637549c9bfc44.jpg copiada a train_org/Old-School.\n",
            "Imagen images-2-_jpg.rf.c58c71a7397590a79bb7e72822727010.jpg copiada a train_org/Blackwork.\n",
            "Imagen images-2-_jpg.rf.c58c71a7397590a79bb7e72822727010.jpg copiada a train_org/Dotwork.\n",
            "Imagen 62e7e6ae9044f4568b5a2ef77d1e9f6d_jpg.rf.c36916880d512a2bab5e10cc5a4f134a.jpg copiada a train_org/Old-School.\n",
            "Imagen 8d6cc5da6f74feebeb9e75512bfc211a_jpg.rf.d5e301a6f1d71a89882a2f097c6f085f.jpg copiada a train_org/Old-School.\n",
            "Imagen images-3-_jpg.rf.cc34683aca3bf995f01e019b9ab9c66c.jpg copiada a train_org/Dotwork.\n",
            "Imagen descarga-3-_jpg.rf.d0c4e1b71ffcd6c0eaf41e1ac01c61ba.jpg copiada a train_org/Old-School.\n",
            "Imagen descarga-4-_jpg.rf.b846323c1e4986866d8c3455cc23b86e.jpg copiada a train_org/Old-School.\n",
            "Imagen tatuaje_Logia_Barcelona_Julio_Voltaje_Aguila_02_jpg.rf.da29d8ebf59606d24f9b4a78d5882e92.jpg copiada a train_org/Old-School.\n",
            "Imagen descarga-2-_jpg.rf.cb0ba38134d66b65bb8a0397f4aac51f.jpg copiada a train_org/Acuarela.\n",
            "Imagen descarga-10-_jpg.rf.d36758fb0d5da8f989066521e432187e.jpg copiada a train_org/Blackwork.\n",
            "Imagen 2b7094a4831a7e32e78afdf74cc6f783_jpg.rf.d82f32f6c3384525231ef2796419848d.jpg copiada a train_org/Old-School.\n",
            "Imagen 8921c632d45e0439bec3d9283a52913a_jpg.rf.d774db17c0fc58d40ae94efb1ca070e1.jpg copiada a train_org/Old-School.\n",
            "Imagen 7735e49e88b9f354c4827a93c519c12f_jpg.rf.e276345c93d5ae49174d90228a49b020.jpg copiada a train_org/Old-School.\n",
            "Imagen 5b8a549ebf263ec8949b8114fdcbf473_jpg.rf.e1d02659a25c26f827157c0683fc89a9.jpg copiada a train_org/Old-School.\n",
            "Imagen 4a04a6d5c34c3f77a5e6ef75155bbb3a_jpg.rf.df8e9eefbbccf4589c60f7ee6b1a29d6.jpg copiada a train_org/Old-School.\n",
            "Imagen images_jpg.rf.dc065f2ccbeb1d0023255d2c7862fe59.jpg copiada a train_org/Old-School.\n",
            "Imagen cf34b84f8d3c6079ac3450bb8537539f_jpg.rf.d6fd847c9663f310c50f2050da4998de.jpg copiada a train_org/Old-School.\n",
            "Imagen images-2-_jpg.rf.d62c417eb56f41fc7448e201a5c4e7f8.jpg copiada a train_org/Old-School.\n",
            "Imagen descarga-8-_jpg.rf.e358dcb142a573e94c82da44b8d48f4c.jpg copiada a train_org/Neotradicional.\n",
            "Imagen descarga-4-_jpg.rf.deb173a489f58f97d4c3bb0621938dec.jpg copiada a train_org/Blackwork.\n",
            "Imagen descarga-5-_jpg.rf.dea2172193535c43a3f3d92b518bb6f3.jpg copiada a train_org/Old-School.\n",
            "Imagen 3e5787e03452dc64aae5ffe9059946c4_jpg.rf.e6933d40c719c7dbf041913845bb70eb.jpg copiada a train_org/Acuarela.\n",
            "Imagen images_jpg.rf.e875c223d51058a46bd03f7c1fff29d0.jpg copiada a train_org/Old-School.\n",
            "Imagen descarga-8-_jpg.rf.f1c8b8bca0d96f63cd87249cd902b5e1.jpg copiada a train_org/Blackwork.\n",
            "Imagen descarga-6-_jpg.rf.ec690bd8db0fe73d12e9980304f0ca1c.jpg copiada a train_org/Neotradicional.\n",
            "Imagen 1_l-D5X1eY5MZUJ4u_wrViqQ_jpg.rf.e14338dc338a02acabedd700b7564a58.jpg copiada a train_org/Dotwork.\n",
            "Imagen 3e5787e03452dc64aae5ffe9059946c4_jpg.rf.e9f72137d7ed730b303f59d701eb3e0c.jpg copiada a train_org/Acuarela.\n",
            "Imagen descarga-6-_jpg.rf.e7ea711e94cb9122e58b714959c09643.jpg copiada a train_org/Old-School.\n",
            "Imagen descarga-1-_jpg.rf.f11a7ec24034623f8dc4b6c9afba6852.jpg copiada a train_org/Neotradicional.\n",
            "Imagen descarga-2-_jpg.rf.f79b59f743f55c8d032f9e5e3759c3be.jpg copiada a train_org/Neotradicional.\n",
            "Imagen descarga-1-_jpg.rf.f8ba5c4d175233328e62ad3d5f2d9457.jpg copiada a train_org/Blackwork.\n",
            "Imagen tatuaje-gato-acuarela-espalda-logia-barcelona-billy_jpg.rf.f1ff539e275746757a0aa7051bfb33d8.jpg copiada a train_org/Acuarela.\n",
            "Imagen 8921c632d45e0439bec3d9283a52913a_jpg.rf.f024bfa23b3dada28c1f0fdd48ebcc10.jpg copiada a train_org/Old-School.\n",
            "Imagen descarga-10-_jpg.rf.faae1dd5ba36ee4505eb055cb74c064a.jpg copiada a train_org/Blackwork.\n",
            "Imagen 13e7ce84aab22ea9a40deb91f567b211_jpg.rf.f9ff7c0f487788f254afc6097c1a01f3.jpg copiada a train_org/Old-School.\n",
            "Imagen 8921c632d45e0439bec3d9283a52913a_jpg.rf.fc293613830e97b4cd8c25e6ba4e8771.jpg copiada a train_org/Old-School.\n",
            "Imagen 4a04a6d5c34c3f77a5e6ef75155bbb3a_jpg.rf.f85cdd16707075bb467b8cd10edc572c.jpg copiada a train_org/Old-School.\n",
            "Imagen descarga-4-_jpg.rf.fc40612f77694124b8bcfa7ef4a61b53.jpg copiada a train_org/Old-School.\n",
            "Imagen descarga-10-_jpg.rf.fa8d4ec7a8bcf17b7288c2295de04cf9.jpg copiada a train_org/Blackwork.\n",
            "Imagen descarga_jpg.rf.fb679c6b4ed6aab588cb6825e2805394.jpg copiada a train_org/Blackwork.\n",
            "Imagen descarga-3-_jpg.rf.fbdd834aad567ec96cbc621462888d53.jpg copiada a train_org/Neotradicional.\n",
            "Imagen images_jpg.rf.fb367dc9740450117c24fa4071bbf517.jpg copiada a train_org/Blackwork.\n",
            "Imagen HD-wallpaper-american-traditional-tattoo-designs-ideas-tattoos-ai_jpg.rf.f084b1eb5be49512005df26f56c3311b.jpg copiada a train_org/Old-School.\n",
            "Imagen images-4-_jpg.rf.f61ad0461659f7810b1a3f2288877d87.jpg copiada a train_org/Old-School.\n"
          ]
        }
      ]
    },
    {
      "cell_type": "markdown",
      "source": [
        "# Organizar carpeta de valid por clase"
      ],
      "metadata": {
        "id": "3ZaJrRx8uzwX"
      }
    },
    {
      "cell_type": "code",
      "source": [
        "import os\n",
        "import shutil\n",
        "import pandas as pd\n",
        "\n",
        "# Ruta al archivo CSV y a la carpeta de imágenes\n",
        "csv_path = \"/content/Tattoo_Types-3/valid/_classes.csv\"\n",
        "source_dir = b  # Lista con las rutas de las imágenes\n",
        "\n",
        "# Cargar el archivo CSV\n",
        "data = pd.read_csv(csv_path)\n",
        "\n",
        "# Limpiar nombres de columnas eliminando espacios iniciales si los hay\n",
        "data.columns = data.columns.str.strip()\n",
        "\n",
        "# Crear un directorio de destino para las imágenes organizadas\n",
        "train_dir = 'valid_org'\n",
        "os.makedirs(train_dir, exist_ok=True)\n",
        "\n",
        "# Procesar cada fila del CSV\n",
        "for _, row in data.iterrows():\n",
        "    filename = row['filename']\n",
        "    # Determinar la clase a partir de las columnas binarias\n",
        "    classes = row[1:]  # Todas las columnas excepto 'filename'\n",
        "    target_classes = classes[classes == 1].index.tolist()\n",
        "\n",
        "    # Validar si existe al menos una clase para la imagen\n",
        "    if not target_classes:\n",
        "        print(f\"No se encontró clase para la imagen {filename}.\")\n",
        "        continue\n",
        "\n",
        "    # Buscar la ruta completa de la imagen en la lista de rutas\n",
        "    image_path = next((path for path in source_dir if filename in path), None)\n",
        "\n",
        "    if not image_path:\n",
        "        print(f\"No se encontró la imagen {filename} en la lista.\")\n",
        "        continue\n",
        "\n",
        "    # Mover o copiar la imagen a la carpeta de cada clase correspondiente\n",
        "    for cls in target_classes:\n",
        "        class_dir = os.path.join(train_dir, cls)\n",
        "        os.makedirs(class_dir, exist_ok=True)  # Crear la carpeta si no existe\n",
        "\n",
        "        dest_path = os.path.join(class_dir, os.path.basename(image_path))\n",
        "        shutil.copy(image_path, dest_path)  # Cambia `copy` a `move` si deseas mover\n",
        "        print(f\"Imagen {filename} copiada a {class_dir}.\")"
      ],
      "metadata": {
        "colab": {
          "base_uri": "https://localhost:8080/"
        },
        "id": "b3oC079Cu3Ws",
        "outputId": "2e78cd49-1f13-49a3-d54f-5678dc6bc1b6"
      },
      "execution_count": 11,
      "outputs": [
        {
          "output_type": "stream",
          "name": "stdout",
          "text": [
            "Imagen c4ebb0c54ff2f03d761a42bce58ddaec_jpg.rf.1d119081b22821ce3ab528cfb1130eea.jpg copiada a valid_org/Old-School.\n",
            "Imagen 2b7b7a4fef9c9ae882bedab07e73ff15_jpg.rf.1f84126a39f8e5b493dd4f7915bb8d38.jpg copiada a valid_org/Old-School.\n",
            "Imagen b7d7a06b1cfcb6c46cb9e8b90a412296_jpg.rf.12355925fa7c58f7716d54e369e10ba0.jpg copiada a valid_org/Old-School.\n",
            "Imagen descarga-9-_jpg.rf.1debaa1b5de304dc569b557c4ee428fb.jpg copiada a valid_org/Blackwork.\n",
            "Imagen descarga-11-_jpg.rf.1e1f72643470965d371e025cb14e6f79.jpg copiada a valid_org/Neotradicional.\n",
            "Imagen descarga-2-_jpg.rf.237485647dc97dace577fa77b184bfd6.jpg copiada a valid_org/Dotwork.\n",
            "Imagen descarga_jpg.rf.38685595e348eb380a6da2778d669b5d.jpg copiada a valid_org/Acuarela.\n",
            "Imagen 2e2af2e3bb619ac98c347f8c1ab791c3_jpg.rf.2b59cb07c47c7458f68977445a64834e.jpg copiada a valid_org/Old-School.\n",
            "Imagen images-3-_jpg.rf.38d347e288609fca48a643a205e08bd1.jpg copiada a valid_org/Old-School.\n",
            "Imagen descarga-9-_jpg.rf.4c0c2952b77ecccdd192b291d0901f1d.jpg copiada a valid_org/Neotradicional.\n",
            "Imagen images-2-_jpg.rf.3d5de6c991b39c4f73616eb14855f1ad.jpg copiada a valid_org/Acuarela.\n",
            "Imagen descarga-2-_jpg.rf.98bf30852a518ae2f25c7a0d49f28446.jpg copiada a valid_org/Blackwork.\n",
            "Imagen images-5-_jpg.rf.a38c86b691fd6719b870811aca8696e8.jpg copiada a valid_org/Acuarela.\n",
            "Imagen fposter-small-wall_texture-square_product-600x600-u4_jpg.rf.c9ff024d7f1d9e6d5c9d94db617e9a91.jpg copiada a valid_org/Old-School.\n",
            "Imagen images-1-_jpg.rf.cf7f46b98ba2384830f75142d4c5a8c1.jpg copiada a valid_org/Acuarela.\n",
            "Imagen images-6-_jpg.rf.ddcf44b9c8f712add27ed2384a0ec84f.jpg copiada a valid_org/Acuarela.\n",
            "Imagen descarga-6-_jpg.rf.72b65701c967f596b9a415c21b096fb4.jpg copiada a valid_org/Dotwork.\n",
            "Imagen descarga-7-_jpg.rf.e7f32fb18429390a349d1c28fa762943.jpg copiada a valid_org/Blackwork.\n",
            "Imagen American-Traditional-Tattoo_jpg.rf.ae009d15e0327819a0e409adce216b79.jpg copiada a valid_org/Old-School.\n",
            "Imagen dog_acuarela_jpg.rf.de6be11f03ec06689666cbbe2ee8fd51.jpg copiada a valid_org/Acuarela.\n",
            "Imagen descarga-4-_jpg.rf.c0fb139b96d94c789c8210711cdbe65d.jpg copiada a valid_org/Dotwork.\n",
            "Imagen descarga-3-_jpg.rf.d6434032a98230d8f5c59a15acdb513f.jpg copiada a valid_org/Acuarela.\n",
            "Imagen descarga-1-_jpg.rf.ffb16cb946d4b4a69d26f0df6214ade3.jpg copiada a valid_org/Acuarela.\n",
            "Imagen descarga-2-_jpg.rf.a5218eb399bc8fa77fb5aeaa95bf005e.jpg copiada a valid_org/Old-School.\n",
            "Imagen images-1-_jpg.rf.5bcc081b70ba1f65bb78fa52f1cbbbbb.jpg copiada a valid_org/Neotradicional.\n"
          ]
        }
      ]
    },
    {
      "cell_type": "markdown",
      "source": [
        "# Entrenar el modelo"
      ],
      "metadata": {
        "id": "Gefy6ag4uvEo"
      }
    },
    {
      "cell_type": "code",
      "source": [
        "import pandas as pd\n",
        "from tensorflow.keras.preprocessing.image import ImageDataGenerator\n",
        "from tensorflow.keras.models import Sequential\n",
        "from tensorflow.keras.layers import Dense, Dropout, Flatten, Conv2D, MaxPooling2D\n",
        "\n",
        "# Directorios de entrenamiento y validación\n",
        "train_dir = \"/content/train_org\"\n",
        "valid_dir = \"/content/valid_org\"\n",
        "\n",
        "# Crear el generador de datos\n",
        "train_datagen = ImageDataGenerator(\n",
        "    rescale=1.0/255,          # Escalar valores de píxeles entre 0 y 1\n",
        "    rotation_range=20,        # Rotación aleatoria\n",
        "    width_shift_range=0.2,    # Desplazamiento horizontal\n",
        "    height_shift_range=0.2,   # Desplazamiento vertical\n",
        "    shear_range=0.2,          # Deformación en corte\n",
        "    zoom_range=0.2,           # Zoom aleatorio\n",
        "    horizontal_flip=True,     # Volteo horizontal\n",
        "    fill_mode=\"nearest\"       # Rellenar píxeles vacíos\n",
        ")\n",
        "\n",
        "valid_datagen = ImageDataGenerator(rescale=1.0/255)\n",
        "\n",
        "# Generador para el conjunto de entrenamiento (desde carpetas organizadas)\n",
        "train_generator = train_datagen.flow_from_directory(\n",
        "    directory=train_dir,\n",
        "    target_size=(128, 128),    # Tamaño de las imágenes\n",
        "    batch_size=32,             # Tamaño del lote\n",
        "    class_mode=\"categorical\"   # Clasificación multicategoría\n",
        ")\n",
        "\n",
        "# Generador para el conjunto de validación (desde carpetas organizadas)\n",
        "valid_generator = valid_datagen.flow_from_directory(\n",
        "    directory=valid_dir,\n",
        "    target_size=(128, 128),    # Tamaño de las imágenes\n",
        "    batch_size=32,             # Tamaño del lote\n",
        "    class_mode=\"categorical\"   # Clasificación multicategoría\n",
        ")\n",
        "\n",
        "# Crear el modelo de red neuronal\n",
        "model = Sequential([\n",
        "    Conv2D(32, (3, 3), activation='relu', input_shape=(128, 128, 3)),\n",
        "    MaxPooling2D(pool_size=(2, 2)),\n",
        "    Conv2D(64, (3, 3), activation='relu'),\n",
        "    MaxPooling2D(pool_size=(2, 2)),\n",
        "    Flatten(),\n",
        "    Dense(128, activation='relu'),\n",
        "    Dropout(0.5),\n",
        "    Dense(train_generator.num_classes, activation='softmax')  # Número de clases dinámico\n",
        "])\n",
        "\n",
        "model.compile(optimizer='adam', loss='categorical_crossentropy', metrics=['accuracy'])\n",
        "\n",
        "# Entrenar el modelo\n",
        "history = model.fit(\n",
        "    train_generator,\n",
        "    epochs=10,                   # Número de épocas\n",
        "    validation_data=valid_generator\n",
        ")\n"
      ],
      "metadata": {
        "colab": {
          "base_uri": "https://localhost:8080/"
        },
        "id": "Ua5hFBl93s0a",
        "outputId": "94f3fe92-787b-41b1-fa8b-a1ced1120fcd"
      },
      "execution_count": 12,
      "outputs": [
        {
          "output_type": "stream",
          "name": "stdout",
          "text": [
            "Found 189 images belonging to 5 classes.\n",
            "Found 25 images belonging to 5 classes.\n"
          ]
        },
        {
          "output_type": "stream",
          "name": "stderr",
          "text": [
            "Do not pass an `input_shape`/`input_dim` argument to a layer. When using Sequential models, prefer using an `Input(shape)` object as the first layer in the model instead.\n"
          ]
        },
        {
          "output_type": "stream",
          "name": "stdout",
          "text": [
            "Epoch 1/10\n"
          ]
        },
        {
          "output_type": "stream",
          "name": "stderr",
          "text": [
            "Your `PyDataset` class should call `super().__init__(**kwargs)` in its constructor. `**kwargs` can include `workers`, `use_multiprocessing`, `max_queue_size`. Do not pass these arguments to `fit()`, as they will be ignored.\n"
          ]
        },
        {
          "output_type": "stream",
          "name": "stdout",
          "text": [
            "\u001b[1m6/6\u001b[0m \u001b[32m━━━━━━━━━━━━━━━━━━━━\u001b[0m\u001b[37m\u001b[0m \u001b[1m9s\u001b[0m 844ms/step - accuracy: 0.2580 - loss: 2.7382 - val_accuracy: 0.1200 - val_loss: 1.6855\n",
            "Epoch 2/10\n",
            "\u001b[1m6/6\u001b[0m \u001b[32m━━━━━━━━━━━━━━━━━━━━\u001b[0m\u001b[37m\u001b[0m \u001b[1m7s\u001b[0m 1s/step - accuracy: 0.3585 - loss: 1.5232 - val_accuracy: 0.3200 - val_loss: 1.5481\n",
            "Epoch 3/10\n",
            "\u001b[1m6/6\u001b[0m \u001b[32m━━━━━━━━━━━━━━━━━━━━\u001b[0m\u001b[37m\u001b[0m \u001b[1m9s\u001b[0m 770ms/step - accuracy: 0.4404 - loss: 1.3974 - val_accuracy: 0.3200 - val_loss: 1.7551\n",
            "Epoch 4/10\n",
            "\u001b[1m6/6\u001b[0m \u001b[32m━━━━━━━━━━━━━━━━━━━━\u001b[0m\u001b[37m\u001b[0m \u001b[1m8s\u001b[0m 1s/step - accuracy: 0.4328 - loss: 1.3429 - val_accuracy: 0.3200 - val_loss: 1.5990\n",
            "Epoch 5/10\n",
            "\u001b[1m6/6\u001b[0m \u001b[32m━━━━━━━━━━━━━━━━━━━━\u001b[0m\u001b[37m\u001b[0m \u001b[1m6s\u001b[0m 775ms/step - accuracy: 0.4159 - loss: 1.3313 - val_accuracy: 0.3200 - val_loss: 1.6014\n",
            "Epoch 6/10\n",
            "\u001b[1m6/6\u001b[0m \u001b[32m━━━━━━━━━━━━━━━━━━━━\u001b[0m\u001b[37m\u001b[0m \u001b[1m10s\u001b[0m 789ms/step - accuracy: 0.4094 - loss: 1.3228 - val_accuracy: 0.3200 - val_loss: 1.5960\n",
            "Epoch 7/10\n",
            "\u001b[1m6/6\u001b[0m \u001b[32m━━━━━━━━━━━━━━━━━━━━\u001b[0m\u001b[37m\u001b[0m \u001b[1m11s\u001b[0m 776ms/step - accuracy: 0.4765 - loss: 1.1786 - val_accuracy: 0.3200 - val_loss: 1.4998\n",
            "Epoch 8/10\n",
            "\u001b[1m6/6\u001b[0m \u001b[32m━━━━━━━━━━━━━━━━━━━━\u001b[0m\u001b[37m\u001b[0m \u001b[1m6s\u001b[0m 884ms/step - accuracy: 0.4790 - loss: 1.1382 - val_accuracy: 0.3200 - val_loss: 1.7414\n",
            "Epoch 9/10\n",
            "\u001b[1m6/6\u001b[0m \u001b[32m━━━━━━━━━━━━━━━━━━━━\u001b[0m\u001b[37m\u001b[0m \u001b[1m7s\u001b[0m 786ms/step - accuracy: 0.4861 - loss: 1.0677 - val_accuracy: 0.3600 - val_loss: 1.6130\n",
            "Epoch 10/10\n",
            "\u001b[1m6/6\u001b[0m \u001b[32m━━━━━━━━━━━━━━━━━━━━\u001b[0m\u001b[37m\u001b[0m \u001b[1m6s\u001b[0m 822ms/step - accuracy: 0.4312 - loss: 1.2039 - val_accuracy: 0.3200 - val_loss: 2.1710\n"
          ]
        }
      ]
    },
    {
      "cell_type": "markdown",
      "source": [
        "# Probando el modelo"
      ],
      "metadata": {
        "id": "YmvXV1Th7IKK"
      }
    },
    {
      "cell_type": "code",
      "source": [
        "from tensorflow.keras.preprocessing import image\n",
        "import numpy as np\n",
        "\n",
        "# Ruta de la imagen que quieres probar\n",
        "img_path = \"/content/tradi.JPG\"\n",
        "\n",
        "# Cargar la imagen y redimensionarla al tamaño esperado por el modelo\n",
        "img = image.load_img(img_path, target_size=(128, 128))  # Debe ser el mismo tamaño de entrada de tu modelo\n",
        "\n",
        "# Convertir la imagen a un array\n",
        "img_array = image.img_to_array(img)\n",
        "\n",
        "# Escalar los valores de píxeles (de 0-255 a 0-1) de acuerdo con el preprocesamiento del ImageDataGenerator\n",
        "img_array = img_array / 255.0\n",
        "\n",
        "# Añadir una dimensión para que sea compatible con la entrada del modelo (1, 128, 128, 3)\n",
        "img_array = np.expand_dims(img_array, axis=0)\n",
        "\n",
        "# Hacer la predicción con el modelo entrenado (modelo ya cargado)\n",
        "predictions = model.predict(img_array)\n",
        "\n",
        "# Obtener la clase con la mayor probabilidad\n",
        "predicted_class = np.argmax(predictions, axis=1)\n",
        "\n",
        "# Mostrar las clases y sus índices\n",
        "print(\"Clases y sus índices:\", train_generator.class_indices)\n",
        "\n",
        "# Imprimir la clase predicha\n",
        "classes = list(train_generator.class_indices.keys())  # Lista de clases desde el generador\n",
        "print(\"Clase detectada:\", classes[predicted_class[0]])\n"
      ],
      "metadata": {
        "colab": {
          "base_uri": "https://localhost:8080/"
        },
        "id": "gOCQBfIO7Lt5",
        "outputId": "b678fe74-d197-4275-c5bc-80b8ee38c340"
      },
      "execution_count": 17,
      "outputs": [
        {
          "output_type": "stream",
          "name": "stdout",
          "text": [
            "\u001b[1m1/1\u001b[0m \u001b[32m━━━━━━━━━━━━━━━━━━━━\u001b[0m\u001b[37m\u001b[0m \u001b[1m0s\u001b[0m 55ms/step\n",
            "Clases y sus índices: {'Acuarela': 0, 'Blackwork': 1, 'Dotwork': 2, 'Neotradicional': 3, 'Old-School': 4}\n",
            "Clase detectada: Old-School\n"
          ]
        }
      ]
    }
  ]
}